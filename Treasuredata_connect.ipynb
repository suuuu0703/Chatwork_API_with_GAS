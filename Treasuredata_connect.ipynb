{
  "nbformat": 4,
  "nbformat_minor": 0,
  "metadata": {
    "colab": {
      "name": "Treasuredata_connect.ipynb",
      "provenance": [],
      "authorship_tag": "ABX9TyOSks5fNzErM4f6PhjtnyDS",
      "include_colab_link": true
    },
    "kernelspec": {
      "name": "python3",
      "display_name": "Python 3"
    }
  },
  "cells": [
    {
      "cell_type": "markdown",
      "metadata": {
        "id": "view-in-github",
        "colab_type": "text"
      },
      "source": [
        "<a href=\"https://colab.research.google.com/github/suuuu0703/Chatwork_API_with_GAS/blob/master/Treasuredata_connect.ipynb\" target=\"_parent\"><img src=\"https://colab.research.google.com/assets/colab-badge.svg\" alt=\"Open In Colab\"/></a>"
      ]
    },
    {
      "cell_type": "markdown",
      "metadata": {
        "id": "CKbrngJw5-5Y",
        "colab_type": "text"
      },
      "source": [
        "#前処理"
      ]
    },
    {
      "cell_type": "code",
      "metadata": {
        "id": "p_WC1rDm5-Xk",
        "colab_type": "code",
        "colab": {}
      },
      "source": [
        "!pip install -U -q PyDrive td-client\n",
        "%matplotlib inline\n",
        "import pandas as pd\n",
        "pd.options.display.max_columns = 1000\n",
        "pd.options.display.max_rows = 10000\n",
        "\n",
        "# 準備\n",
        "# ライブラリインポート\n",
        "from IPython.display import clear_output\n",
        "try:\n",
        "    # 日本語描画可能に\n",
        "    import matplotlib.pyplot as plt\n",
        "    import seaborn as sns\n",
        "    # jp_font = {'fontname':'IPAGothic'}\n",
        "    sns.set(context='paper', style='whitegrid')\n",
        "    sns.set_context(\"poster\")\n",
        "\n",
        "    # TD_API_KEY取得のためのGoogleドライブファイルインポート用ライブラリインポート\n",
        "    from pydrive.auth import GoogleAuth\n",
        "    from pydrive.drive import GoogleDrive\n",
        "    from google.colab import auth\n",
        "    from oauth2client.client import GoogleCredentials\n",
        "    from googleapiclient.discovery import build\n",
        "    auth.authenticate_user()\n",
        "    gauth = GoogleAuth()\n",
        "    gauth.credentials = GoogleCredentials.get_application_default()\n",
        "    drive = GoogleDrive(gauth)\n",
        "    drive_service = build('drive', 'v3')\n",
        "\n",
        "    #Google Drive > Colab Notebooksディレクトリ配下にTD_API_KEYというファイル名でTDのAPI Key（Master Key）を記述して保管\n",
        "    find_file = drive_service.files().list(q=\"name = 'TD_API_KEY'\", fields=\"files(id)\").execute()\n",
        "    file_id = find_file.get('files', [])[0]['id']\n",
        "    drive_file = drive.CreateFile({'id': file_id})\n",
        "    td_api_key = drive_file.GetContentString().strip()\n",
        "\n",
        "    # TD_REST_API用ライブラリインポート\n",
        "    import tdclient\n",
        "    def td_job_result(jobid):\n",
        "      with tdclient.Client(apikey = td_api_key) as client:\n",
        "          job_header = client.job(jobid).result_schema\n",
        "          job_results = client.job_result(jobid)\n",
        "      header = [row[0] for row in job_header]\n",
        "      results = pd.DataFrame(job_results)\n",
        "      results.columns = header\n",
        "      return results\n",
        "    clear_output()\n",
        "    print('All Loaded')        \n",
        "except Exception as e:\n",
        "  print(e)\n",
        "  pass"
      ],
      "execution_count": 0,
      "outputs": []
    },
    {
      "cell_type": "markdown",
      "metadata": {
        "id": "NFOgpM9w8FfQ",
        "colab_type": "text"
      },
      "source": [
        "#データ取得"
      ]
    },
    {
      "cell_type": "code",
      "metadata": {
        "id": "b42H4M2V8G_V",
        "colab_type": "code",
        "colab": {}
      },
      "source": [
        "#jobidにTDの実行済みJOBのjobidを記述\n",
        "df = td_job_result(\"jobid\")"
      ],
      "execution_count": 0,
      "outputs": []
    }
  ]
}